{
 "cells": [
  {
   "cell_type": "markdown",
   "metadata": {},
   "source": [
    "# Practice notebook for univariate analysis using NHANES data\n",
    "\n",
    "This notebook will give you the opportunity to perform some univariate analyses on your own using the NHANES.  These analyses are similar to what was done in the week 2 NHANES case study notebook.\n",
    "\n",
    "You can enter your code into the cells that say \"enter your code here\", and you can type responses to the questions into the cells that say \"Type Markdown and Latex\".\n",
    "\n",
    "Note that most of the code that you will need to write below is very similar to code that appears in the case study notebook.  You will need to edit code from that notebook in small ways to adapt it to the prompts below.\n",
    "\n",
    "To get started, we will use the same module imports and read the data in the same way as we did in the case study:"
   ]
  },
  {
   "cell_type": "code",
   "execution_count": 1,
   "metadata": {},
   "outputs": [],
   "source": [
    "%matplotlib inline\n",
    "import matplotlib.pyplot as plt\n",
    "import seaborn as sns\n",
    "import pandas as pd\n",
    "import statsmodels.api as sm\n",
    "import numpy as np\n",
    "\n",
    "da = pd.read_csv(\"nhanes_2015_2016.csv\")"
   ]
  },
  {
   "cell_type": "markdown",
   "metadata": {},
   "source": [
    "## Question 1\n",
    "\n",
    "Relabel the marital status variable [DMDMARTL](https://wwwn.cdc.gov/Nchs/Nhanes/2015-2016/DEMO_I.htm#DMDMARTL) to have brief but informative character labels.  Then construct a frequency table of these values for all people, then for women only, and for men only.  Then construct these three frequency tables using only people whose age is between 30 and 40."
   ]
  },
  {
   "cell_type": "code",
   "execution_count": 2,
   "metadata": {},
   "outputs": [
    {
     "data": {
      "text/plain": [
       "array([ 1.,  3.,  6.,  4.,  5., nan,  2., 77.])"
      ]
     },
     "execution_count": 2,
     "metadata": {},
     "output_type": "execute_result"
    }
   ],
   "source": [
    "da.DMDMARTL.unique()"
   ]
  },
  {
   "cell_type": "code",
   "execution_count": 3,
   "metadata": {},
   "outputs": [],
   "source": [
    "da[\"DMDMARTLx\"] = da.DMDMARTL.replace({\n",
    "    1: \"Married\",\n",
    "    2: \"Widowed\",\n",
    "    3: \"Divorced\",\n",
    "    4: \"Separated\",\n",
    "    5: \"Never married\",\n",
    "    6: \"Living with partner\",\n",
    "    77: \"Refused\",\n",
    "    99: \"Don't Know\",\n",
    "    np.nan: \"Missing\"\n",
    "}\n",
    ")"
   ]
  },
  {
   "cell_type": "code",
   "execution_count": 4,
   "metadata": {},
   "outputs": [
    {
     "data": {
      "text/plain": [
       "Married                2780\n",
       "Never married          1004\n",
       "Divorced                579\n",
       "Living with partner     527\n",
       "Widowed                 396\n",
       "Missing                 261\n",
       "Separated               186\n",
       "Refused                   2\n",
       "Name: DMDMARTLx, dtype: int64"
      ]
     },
     "execution_count": 4,
     "metadata": {},
     "output_type": "execute_result"
    }
   ],
   "source": [
    "da.DMDMARTLx.value_counts()"
   ]
  },
  {
   "cell_type": "code",
   "execution_count": 5,
   "metadata": {},
   "outputs": [],
   "source": [
    "da[\"RIAGENDRx\"] = da.RIAGENDR.replace({1: \"Male\", 2: \"Female\"})"
   ]
  },
  {
   "cell_type": "code",
   "execution_count": 6,
   "metadata": {},
   "outputs": [
    {
     "data": {
      "text/plain": [
       "Married                0.535339\n",
       "Never married          0.175426\n",
       "Living with partner    0.096049\n",
       "Divorced               0.083001\n",
       "Missing                0.048931\n",
       "Widowed                0.036245\n",
       "Separated              0.024647\n",
       "Refused                0.000362\n",
       "Name: DMDMARTLx, dtype: float64"
      ]
     },
     "execution_count": 6,
     "metadata": {},
     "output_type": "execute_result"
    }
   ],
   "source": [
    "da[da.RIAGENDRx == 'Male'].DMDMARTLx.value_counts(normalize=True)"
   ]
  },
  {
   "cell_type": "code",
   "execution_count": 7,
   "metadata": {},
   "outputs": [
    {
     "data": {
      "text/plain": [
       "Married                0.437836\n",
       "Never married          0.174731\n",
       "Divorced               0.117608\n",
       "Widowed                0.099462\n",
       "Living with partner    0.088038\n",
       "Missing                0.042339\n",
       "Separated              0.039651\n",
       "Refused                0.000336\n",
       "Name: DMDMARTLx, dtype: float64"
      ]
     },
     "execution_count": 7,
     "metadata": {},
     "output_type": "execute_result"
    }
   ],
   "source": [
    "da[da.RIAGENDRx == 'Female'].DMDMARTLx.value_counts(normalize=True)"
   ]
  },
  {
   "cell_type": "code",
   "execution_count": 8,
   "metadata": {},
   "outputs": [
    {
     "data": {
      "text/plain": [
       "0       62\n",
       "1       53\n",
       "2       78\n",
       "3       56\n",
       "4       42\n",
       "        ..\n",
       "5730    76\n",
       "5731    26\n",
       "5732    80\n",
       "5733    35\n",
       "5734    24\n",
       "Name: RIDAGEYR, Length: 5735, dtype: int64"
      ]
     },
     "execution_count": 8,
     "metadata": {},
     "output_type": "execute_result"
    }
   ],
   "source": [
    "da.RIDAGEYR.dropna()"
   ]
  },
  {
   "cell_type": "code",
   "execution_count": 9,
   "metadata": {},
   "outputs": [
    {
     "data": {
      "text/plain": [
       "Never married          521\n",
       "Married                262\n",
       "Missing                261\n",
       "Living with partner    209\n",
       "Separated               18\n",
       "Divorced                13\n",
       "Widowed                  2\n",
       "Name: DMDMARTLx, dtype: int64"
      ]
     },
     "execution_count": 9,
     "metadata": {},
     "output_type": "execute_result"
    }
   ],
   "source": [
    "da[(da.RIDAGEYR <=30) & (da.RIDAGEYR <40)].DMDMARTLx.value_counts()"
   ]
  },
  {
   "cell_type": "code",
   "execution_count": 10,
   "metadata": {},
   "outputs": [
    {
     "data": {
      "text/plain": [
       "Never married          0.431631\n",
       "Missing                0.222405\n",
       "Married                0.171334\n",
       "Living with partner    0.156507\n",
       "Separated              0.011532\n",
       "Divorced               0.003295\n",
       "Widowed                0.003295\n",
       "Name: DMDMARTLx, dtype: float64"
      ]
     },
     "execution_count": 10,
     "metadata": {},
     "output_type": "execute_result"
    }
   ],
   "source": [
    "da[(da.RIDAGEYR <=30) & (da.RIDAGEYR <40) & (da.RIAGENDRx == 'Male')].DMDMARTLx.value_counts(normalize=True)"
   ]
  },
  {
   "cell_type": "code",
   "execution_count": 11,
   "metadata": {},
   "outputs": [
    {
     "data": {
      "text/plain": [
       "Never married          0.381443\n",
       "Married                0.232695\n",
       "Missing                0.185567\n",
       "Living with partner    0.167894\n",
       "Divorced               0.016200\n",
       "Separated              0.016200\n",
       "Name: DMDMARTLx, dtype: float64"
      ]
     },
     "execution_count": 11,
     "metadata": {},
     "output_type": "execute_result"
    }
   ],
   "source": [
    "da[(da.RIDAGEYR <=30) & (da.RIDAGEYR <40) & (da.RIAGENDRx == 'Female')].DMDMARTLx.value_counts(normalize=True)"
   ]
  },
  {
   "cell_type": "markdown",
   "metadata": {},
   "source": [
    "__Q1a.__ Briefly comment on some of the differences that you observe between the distribution of marital status between women and men, for people of all ages."
   ]
  },
  {
   "cell_type": "raw",
   "metadata": {},
   "source": [
    "The sample of men is greater than the one of women. There are more percentage of married men than married women, but the same persentage of never married men and women."
   ]
  },
  {
   "cell_type": "markdown",
   "metadata": {},
   "source": [
    "__Q1b.__ Briefly comment on the differences that you observe between the distribution of marital status states for women between the overall population, and for women between the ages of 30 and 40."
   ]
  },
  {
   "cell_type": "raw",
   "metadata": {},
   "source": [
    "At this age the percentage of never married increased."
   ]
  },
  {
   "cell_type": "markdown",
   "metadata": {},
   "source": [
    "__Q1c.__ Repeat part b for the men."
   ]
  },
  {
   "cell_type": "raw",
   "metadata": {},
   "source": [
    "At this age the percentage of never married increased."
   ]
  },
  {
   "cell_type": "markdown",
   "metadata": {},
   "source": [
    "## Question 2\n",
    "\n",
    "Restricting to the female population, stratify the subjects into age bands no wider than ten years, and construct the distribution of marital status within each age band.  Within each age band, present the distribution in terms of proportions that must sum to 1."
   ]
  },
  {
   "cell_type": "code",
   "execution_count": 12,
   "metadata": {},
   "outputs": [
    {
     "name": "stderr",
     "output_type": "stream",
     "text": [
      "/home/javanegas/Documents/notes/notes-statistics-with-python/understanding-and-visualizing-data/Week2/venv/lib/python3.6/site-packages/ipykernel_launcher.py:2: SettingWithCopyWarning: \n",
      "A value is trying to be set on a copy of a slice from a DataFrame.\n",
      "Try using .loc[row_indexer,col_indexer] = value instead\n",
      "\n",
      "See the caveats in the documentation: https://pandas.pydata.org/pandas-docs/stable/user_guide/indexing.html#returning-a-view-versus-a-copy\n",
      "  \n"
     ]
    },
    {
     "data": {
      "text/plain": [
       "<matplotlib.axes._subplots.AxesSubplot at 0x7f5d7b5c1f98>"
      ]
     },
     "execution_count": 12,
     "metadata": {},
     "output_type": "execute_result"
    },
    {
     "data": {
      "image/png": "[encoded data removed]",
      "text/plain": [
       "<Figure size 1080x360 with 1 Axes>"
      ]
     },
     "metadata": {
      "needs_background": "light"
     },
     "output_type": "display_data"
    }
   ],
   "source": [
    "female_da = da[da.RIAGENDRx == 'Female']\n",
    "female_da[\"agegrp\"] = pd.cut(female_da.RIDAGEYR, 7)\n",
    "female_da.groupby(\"agegrp\")[\"DMDMARTLx\"].value_counts(normalize=True)\n",
    "plt.figure(figsize=(15, 5))\n",
    "sns.countplot(x=\"agegrp\", hue=\"DMDMARTLx\", data=female_da)"
   ]
  },
  {
   "cell_type": "markdown",
   "metadata": {},
   "source": [
    "__Q2a.__ Comment on the trends that you see in this series of marginal distributions."
   ]
  },
  {
   "cell_type": "raw",
   "metadata": {},
   "source": [
    "Married could be seem as a normal distribution certed on group (44 53)"
   ]
  },
  {
   "cell_type": "markdown",
   "metadata": {},
   "source": [
    "__Q2b.__ Repeat the construction for males."
   ]
  },
  {
   "cell_type": "code",
   "execution_count": 13,
   "metadata": {},
   "outputs": [
    {
     "name": "stderr",
     "output_type": "stream",
     "text": [
      "/home/javanegas/Documents/notes/notes-statistics-with-python/understanding-and-visualizing-data/Week2/venv/lib/python3.6/site-packages/ipykernel_launcher.py:2: SettingWithCopyWarning: \n",
      "A value is trying to be set on a copy of a slice from a DataFrame.\n",
      "Try using .loc[row_indexer,col_indexer] = value instead\n",
      "\n",
      "See the caveats in the documentation: https://pandas.pydata.org/pandas-docs/stable/user_guide/indexing.html#returning-a-view-versus-a-copy\n",
      "  \n"
     ]
    },
    {
     "data": {
      "text/plain": [
       "<matplotlib.axes._subplots.AxesSubplot at 0x7f5d78c2dc18>"
      ]
     },
     "execution_count": 13,
     "metadata": {},
     "output_type": "execute_result"
    },
    {
     "data": {
      "image/png": "[encoded data removed]",
      "text/plain": [
       "<Figure size 1080x360 with 1 Axes>"
      ]
     },
     "metadata": {
      "needs_background": "light"
     },
     "output_type": "display_data"
    }
   ],
   "source": [
    "male_da = da[da.RIAGENDRx == 'Male']\n",
    "male_da[\"agegrp\"] = pd.cut(male_da.RIDAGEYR, 7)\n",
    "male_da.groupby(\"agegrp\")[\"DMDMARTLx\"].value_counts(normalize=True)\n",
    "plt.figure(figsize=(15, 5))\n",
    "sns.countplot(x=\"agegrp\", hue=\"DMDMARTLx\", data=male_da)"
   ]
  },
  {
   "cell_type": "markdown",
   "metadata": {},
   "source": [
    "__Q2c.__ Comment on any notable differences that you see when comparing these results for females and for males."
   ]
  },
  {
   "cell_type": "raw",
   "metadata": {},
   "source": [
    "Married for male is squewed do the right"
   ]
  },
  {
   "cell_type": "markdown",
   "metadata": {},
   "source": [
    "## Question 3\n",
    "\n",
    "Construct a histogram of the distribution of heights using the BMXHT variable in the NHANES sample."
   ]
  },
  {
   "cell_type": "code",
   "execution_count": 14,
   "metadata": {},
   "outputs": [
    {
     "data": {
      "text/plain": [
       "<matplotlib.axes._subplots.AxesSubplot at 0x7f5d794eb518>"
      ]
     },
     "execution_count": 14,
     "metadata": {},
     "output_type": "execute_result"
    },
    {
     "data": {
      "image/png": "[encoded data removed]",
      "text/plain": [
       "<Figure size 432x288 with 1 Axes>"
      ]
     },
     "metadata": {
      "needs_background": "light"
     },
     "output_type": "display_data"
    }
   ],
   "source": [
    "sns.distplot(da.BMXHT.dropna())"
   ]
  },
  {
   "cell_type": "markdown",
   "metadata": {},
   "source": [
    "__Q3a.__ Use the `bins` argument to [distplot](https://seaborn.pydata.org/generated/seaborn.distplot.html) to produce histograms with different numbers of bins.  Assess whether the default value for this argument gives a meaningful result, and comment on what happens as the number of bins grows excessively large or excessively small. "
   ]
  },
  {
   "cell_type": "raw",
   "metadata": {},
   "source": [
    "With a small bin number it maintains the shape but it's not so smooth, with a large one it just divide too much and we start to see empty spaces"
   ]
  },
  {
   "cell_type": "markdown",
   "metadata": {},
   "source": [
    "__Q3b.__ Make separate histograms for the heights of women and men, then make a side-by-side boxplot showing the heights of women and men."
   ]
  },
  {
   "cell_type": "code",
   "execution_count": 15,
   "metadata": {},
   "outputs": [
    {
     "data": {
      "text/plain": [
       "<matplotlib.axes._subplots.AxesSubplot at 0x7f5d78b54780>"
      ]
     },
     "execution_count": 15,
     "metadata": {},
     "output_type": "execute_result"
    },
    {
     "data": {
      "image/png": "[encoded data removed]",
      "text/plain": [
       "<Figure size 432x288 with 1 Axes>"
      ]
     },
     "metadata": {
      "needs_background": "light"
     },
     "output_type": "display_data"
    }
   ],
   "source": [
    "sns.distplot(female_da.BMXHT.dropna())"
   ]
  },
  {
   "cell_type": "code",
   "execution_count": 16,
   "metadata": {},
   "outputs": [
    {
     "data": {
      "text/plain": [
       "<matplotlib.axes._subplots.AxesSubplot at 0x7f5d78ab3278>"
      ]
     },
     "execution_count": 16,
     "metadata": {},
     "output_type": "execute_result"
    },
    {
     "data": {
      "image/png": "[encoded data removed]",
      "text/plain": [
       "<Figure size 432x288 with 1 Axes>"
      ]
     },
     "metadata": {
      "needs_background": "light"
     },
     "output_type": "display_data"
    }
   ],
   "source": [
    "sns.distplot(male_da.BMXHT.dropna())"
   ]
  },
  {
   "cell_type": "code",
   "execution_count": 17,
   "metadata": {},
   "outputs": [
    {
     "data": {
      "text/plain": [
       "<matplotlib.axes._subplots.AxesSubplot at 0x7f5d78993b00>"
      ]
     },
     "execution_count": 17,
     "metadata": {},
     "output_type": "execute_result"
    },
    {
     "data": {
      "image/png": "[encoded data removed]",
      "text/plain": [
       "<Figure size 432x288 with 1 Axes>"
      ]
     },
     "metadata": {
      "needs_background": "light"
     },
     "output_type": "display_data"
    }
   ],
   "source": [
    "sns.boxplot(x='RIAGENDR', y='BMXHT', data=da)"
   ]
  },
  {
   "cell_type": "markdown",
   "metadata": {},
   "source": [
    "__Q3c.__ Comment on what features, if any are not represented clearly in the boxplots, and what features, if any, are easier to see in the boxplots than in the histograms."
   ]
  },
  {
   "cell_type": "raw",
   "metadata": {},
   "source": [
    "Histograms: it is easier to see the shape\n",
    "Boxplots: It is easier to find outliers"
   ]
  },
  {
   "cell_type": "markdown",
   "metadata": {},
   "source": [
    "__Q3d.__ Make a histogram of the log-transformed heights."
   ]
  },
  {
   "cell_type": "code",
   "execution_count": 18,
   "metadata": {},
   "outputs": [
    {
     "data": {
      "text/plain": [
       "<matplotlib.axes._subplots.AxesSubplot at 0x7f5d7896edd8>"
      ]
     },
     "execution_count": 18,
     "metadata": {},
     "output_type": "execute_result"
    },
    {
     "data": {
      "image/png": "[encoded data removed]",
      "text/plain": [
       "<Figure size 432x288 with 1 Axes>"
      ]
     },
     "metadata": {
      "needs_background": "light"
     },
     "output_type": "display_data"
    }
   ],
   "source": [
    "da['LOGBMXHT'] = np.log(da['BMXHT'])\n",
    "sns.distplot(da.LOGBMXHT.dropna())"
   ]
  },
  {
   "cell_type": "markdown",
   "metadata": {},
   "source": [
    "__Q3e.__ Comment on the relationship between the ditribution of the heights and the distribution of the log-transformed heights. "
   ]
  },
  {
   "cell_type": "raw",
   "metadata": {},
   "source": [
    "The shape is the same. What changes is the range "
   ]
  },
  {
   "cell_type": "markdown",
   "metadata": {},
   "source": [
    "## Question 4\n",
    "\n",
    "Make a boxplot showing the distribution of within-subject differences between the first and second systolic blood pressure measurents ([BPXSY1](https://wwwn.cdc.gov/Nchs/Nhanes/2015-2016/BPX_I.htm#BPXSY1) and [BPXSY2](https://wwwn.cdc.gov/Nchs/Nhanes/2015-2016/BPX_I.htm#BPXSY2))."
   ]
  },
  {
   "cell_type": "code",
   "execution_count": 29,
   "metadata": {},
   "outputs": [
    {
     "data": {
      "text/plain": [
       "<matplotlib.axes._subplots.AxesSubplot at 0x7f5d79460780>"
      ]
     },
     "execution_count": 29,
     "metadata": {},
     "output_type": "execute_result"
    },
    {
     "data": {
      "image/png": "[encoded data removed]",
      "text/plain": [
       "<Figure size 432x288 with 1 Axes>"
      ]
     },
     "metadata": {
      "needs_background": "light"
     },
     "output_type": "display_data"
    }
   ],
   "source": [
    "da['BP_DIFF'] = da['BPXSY1'] - da['BPXSY2']\n",
    "sns.boxplot(x=\"variable\", y=\"value\", data=pd.melt(da.loc[:, ['BP_DIFF']]))"
   ]
  },
  {
   "cell_type": "markdown",
   "metadata": {},
   "source": [
    "__Q4a.__ What proportion of the subjects have a lower SBP on the second reading compared to the first?"
   ]
  },
  {
   "cell_type": "markdown",
   "metadata": {},
   "source": [
    "50%"
   ]
  },
  {
   "cell_type": "markdown",
   "metadata": {},
   "source": [
    "__Q4b.__ Make side-by-side boxplots of the two systolic blood pressure variables."
   ]
  },
  {
   "cell_type": "code",
   "execution_count": 27,
   "metadata": {},
   "outputs": [
    {
     "data": {
      "image/png": "[encoded data removed]",
      "text/plain": [
       "<Figure size 432x288 with 1 Axes>"
      ]
     },
     "metadata": {
      "needs_background": "light"
     },
     "output_type": "display_data"
    }
   ],
   "source": [
    "bp = sns.boxplot(data=da.loc[:, [\"BPXSY1\", \"BPXSY2\"]])\n",
    "_ = bp.set_ylabel(\"Blood pressure in mm/Hg\")"
   ]
  },
  {
   "cell_type": "markdown",
   "metadata": {},
   "source": [
    "__Q4c.__ Comment on the variation within either the first or second systolic blood pressure measurements, and the variation in the within-subject differences between the first and second systolic blood pressure measurements."
   ]
  },
  {
   "cell_type": "raw",
   "metadata": {},
   "source": [
    "Theres is the same variation"
   ]
  },
  {
   "cell_type": "markdown",
   "metadata": {},
   "source": [
    "## Question 5\n",
    "\n",
    "Construct a frequency table of household sizes for people within each educational attainment category (the relevant variable is [DMDEDUC2](https://wwwn.cdc.gov/Nchs/Nhanes/2015-2016/DEMO_I.htm#DMDEDUC2)).  Convert the frequencies to proportions."
   ]
  },
  {
   "cell_type": "code",
   "execution_count": 30,
   "metadata": {},
   "outputs": [
    {
     "data": {
      "text/plain": [
       "4.0    0.296127\n",
       "5.0    0.249543\n",
       "3.0    0.216661\n",
       "1.0    0.119657\n",
       "2.0    0.117464\n",
       "9.0    0.000548\n",
       "Name: DMDEDUC2, dtype: float64"
      ]
     },
     "execution_count": 30,
     "metadata": {},
     "output_type": "execute_result"
    }
   ],
   "source": [
    "da.DMDEDUC2.value_counts(normalize=True)"
   ]
  },
  {
   "cell_type": "markdown",
   "metadata": {},
   "source": [
    "__Q5a.__ Comment on any major differences among the distributions."
   ]
  },
  {
   "cell_type": "raw",
   "metadata": {},
   "source": [
    "It seems to have more people on the 4th category(Some college). And the it goes down until 1. The are many people which we don't know the category(9th category)"
   ]
  },
  {
   "cell_type": "markdown",
   "metadata": {},
   "source": [
    "__Q5b.__ Restrict the sample to people between 30 and 40 years of age.  Then calculate the median household size for women and men within each level of educational attainment."
   ]
  },
  {
   "cell_type": "code",
   "execution_count": 33,
   "metadata": {},
   "outputs": [
    {
     "data": {
      "text/plain": [
       "4.0"
      ]
     },
     "execution_count": 33,
     "metadata": {},
     "output_type": "execute_result"
    }
   ],
   "source": [
    "da[(da.RIDAGEYR <=30) & (da.RIDAGEYR <40) & (da.RIAGENDRx == 'Female')].DMDEDUC2.median()"
   ]
  },
  {
   "cell_type": "code",
   "execution_count": 35,
   "metadata": {},
   "outputs": [
    {
     "data": {
      "text/plain": [
       "4.0"
      ]
     },
     "execution_count": 35,
     "metadata": {},
     "output_type": "execute_result"
    }
   ],
   "source": [
    "da[(da.RIDAGEYR <=30) & (da.RIDAGEYR <40) & (da.RIAGENDRx == 'Male')].DMDEDUC2.median()"
   ]
  },
  {
   "cell_type": "markdown",
   "metadata": {},
   "source": [
    "## Question 6\n",
    "\n",
    "The participants can be clustered into \"maked variance units\" (MVU) based on every combination of the variables [SDMVSTRA](https://wwwn.cdc.gov/Nchs/Nhanes/2015-2016/DEMO_I.htm#SDMVSTRA) and [SDMVPSU](https://wwwn.cdc.gov/Nchs/Nhanes/2015-2016/DEMO_I.htm#SDMVPSU).  Calculate the mean age ([RIDAGEYR](https://wwwn.cdc.gov/Nchs/Nhanes/2015-2016/DEMO_I.htm#RIDAGEYR)), height ([BMXHT](https://wwwn.cdc.gov/Nchs/Nhanes/2015-2016/BMX_I.htm#BMXHT)), and BMI ([BMXBMI](https://wwwn.cdc.gov/Nchs/Nhanes/2015-2016/BMX_I.htm#BMXBMI)) for each gender ([RIAGENDR](https://wwwn.cdc.gov/Nchs/Nhanes/2015-2016/DEMO_I.htm#RIAGENDR)), within each MVU, and report the ratio between the largest and smallest mean (e.g. for height) across the MVUs."
   ]
  },
  {
   "cell_type": "code",
   "execution_count": 72,
   "metadata": {},
   "outputs": [
    {
     "name": "stderr",
     "output_type": "stream",
     "text": [
      "/home/javanegas/Documents/notes/notes-statistics-with-python/understanding-and-visualizing-data/Week2/venv/lib/python3.6/site-packages/ipykernel_launcher.py:1: FutureWarning: Indexing with multiple keys (implicitly converted to a tuple of keys) will be deprecated, use a list instead.\n",
      "  \"\"\"Entry point for launching an IPython kernel.\n"
     ]
    },
    {
     "data": {
      "text/html": [
       "<div>\n",
       "<style scoped>\n",
       "    .dataframe tbody tr th:only-of-type {\n",
       "        vertical-align: middle;\n",
       "    }\n",
       "\n",
       "    .dataframe tbody tr th {\n",
       "        vertical-align: top;\n",
       "    }\n",
       "\n",
       "    .dataframe thead th {\n",
       "        text-align: right;\n",
       "    }\n",
       "</style>\n",
       "<table border=\"1\" class=\"dataframe\">\n",
       "  <thead>\n",
       "    <tr style=\"text-align: right;\">\n",
       "      <th></th>\n",
       "      <th></th>\n",
       "      <th>RIDAGEYR</th>\n",
       "      <th>BMXHT</th>\n",
       "      <th>BMXBMI</th>\n",
       "    </tr>\n",
       "    <tr>\n",
       "      <th>SDMVSTRA</th>\n",
       "      <th>SDMVPSU</th>\n",
       "      <th></th>\n",
       "      <th></th>\n",
       "      <th></th>\n",
       "    </tr>\n",
       "  </thead>\n",
       "  <tbody>\n",
       "    <tr>\n",
       "      <th rowspan=\"2\" valign=\"top\">119</th>\n",
       "      <th>1</th>\n",
       "      <td>47.861111</td>\n",
       "      <td>172.741667</td>\n",
       "      <td>26.958333</td>\n",
       "    </tr>\n",
       "    <tr>\n",
       "      <th>2</th>\n",
       "      <td>54.363636</td>\n",
       "      <td>172.906818</td>\n",
       "      <td>27.160465</td>\n",
       "    </tr>\n",
       "    <tr>\n",
       "      <th rowspan=\"2\" valign=\"top\">120</th>\n",
       "      <th>1</th>\n",
       "      <td>43.130000</td>\n",
       "      <td>169.537755</td>\n",
       "      <td>30.939175</td>\n",
       "    </tr>\n",
       "    <tr>\n",
       "      <th>2</th>\n",
       "      <td>45.219178</td>\n",
       "      <td>173.075342</td>\n",
       "      <td>27.727397</td>\n",
       "    </tr>\n",
       "    <tr>\n",
       "      <th rowspan=\"2\" valign=\"top\">121</th>\n",
       "      <th>1</th>\n",
       "      <td>46.750000</td>\n",
       "      <td>172.177885</td>\n",
       "      <td>29.416505</td>\n",
       "    </tr>\n",
       "    <tr>\n",
       "      <th>2</th>\n",
       "      <td>42.063158</td>\n",
       "      <td>174.764516</td>\n",
       "      <td>26.273118</td>\n",
       "    </tr>\n",
       "    <tr>\n",
       "      <th rowspan=\"2\" valign=\"top\">122</th>\n",
       "      <th>1</th>\n",
       "      <td>44.653061</td>\n",
       "      <td>173.998969</td>\n",
       "      <td>28.528866</td>\n",
       "    </tr>\n",
       "    <tr>\n",
       "      <th>2</th>\n",
       "      <td>44.320000</td>\n",
       "      <td>170.332323</td>\n",
       "      <td>25.744444</td>\n",
       "    </tr>\n",
       "    <tr>\n",
       "      <th rowspan=\"2\" valign=\"top\">123</th>\n",
       "      <th>1</th>\n",
       "      <td>47.829787</td>\n",
       "      <td>174.315217</td>\n",
       "      <td>29.231522</td>\n",
       "    </tr>\n",
       "    <tr>\n",
       "      <th>2</th>\n",
       "      <td>52.126582</td>\n",
       "      <td>174.454430</td>\n",
       "      <td>28.811392</td>\n",
       "    </tr>\n",
       "    <tr>\n",
       "      <th rowspan=\"2\" valign=\"top\">124</th>\n",
       "      <th>1</th>\n",
       "      <td>50.750000</td>\n",
       "      <td>172.109009</td>\n",
       "      <td>28.614414</td>\n",
       "    </tr>\n",
       "    <tr>\n",
       "      <th>2</th>\n",
       "      <td>48.245614</td>\n",
       "      <td>174.291228</td>\n",
       "      <td>27.714035</td>\n",
       "    </tr>\n",
       "    <tr>\n",
       "      <th rowspan=\"2\" valign=\"top\">125</th>\n",
       "      <th>1</th>\n",
       "      <td>55.165289</td>\n",
       "      <td>173.631092</td>\n",
       "      <td>29.727731</td>\n",
       "    </tr>\n",
       "    <tr>\n",
       "      <th>2</th>\n",
       "      <td>49.705882</td>\n",
       "      <td>174.456863</td>\n",
       "      <td>29.143564</td>\n",
       "    </tr>\n",
       "    <tr>\n",
       "      <th rowspan=\"2\" valign=\"top\">126</th>\n",
       "      <th>1</th>\n",
       "      <td>48.416667</td>\n",
       "      <td>175.149398</td>\n",
       "      <td>29.033333</td>\n",
       "    </tr>\n",
       "    <tr>\n",
       "      <th>2</th>\n",
       "      <td>48.666667</td>\n",
       "      <td>174.713043</td>\n",
       "      <td>29.039130</td>\n",
       "    </tr>\n",
       "    <tr>\n",
       "      <th rowspan=\"2\" valign=\"top\">127</th>\n",
       "      <th>1</th>\n",
       "      <td>53.137931</td>\n",
       "      <td>171.545349</td>\n",
       "      <td>31.062353</td>\n",
       "    </tr>\n",
       "    <tr>\n",
       "      <th>2</th>\n",
       "      <td>54.070588</td>\n",
       "      <td>173.366667</td>\n",
       "      <td>30.557831</td>\n",
       "    </tr>\n",
       "    <tr>\n",
       "      <th rowspan=\"2\" valign=\"top\">128</th>\n",
       "      <th>1</th>\n",
       "      <td>53.673267</td>\n",
       "      <td>169.325000</td>\n",
       "      <td>31.749000</td>\n",
       "    </tr>\n",
       "    <tr>\n",
       "      <th>2</th>\n",
       "      <td>45.822785</td>\n",
       "      <td>172.400000</td>\n",
       "      <td>26.835443</td>\n",
       "    </tr>\n",
       "    <tr>\n",
       "      <th rowspan=\"2\" valign=\"top\">129</th>\n",
       "      <th>1</th>\n",
       "      <td>43.922222</td>\n",
       "      <td>171.094318</td>\n",
       "      <td>26.493182</td>\n",
       "    </tr>\n",
       "    <tr>\n",
       "      <th>2</th>\n",
       "      <td>45.775510</td>\n",
       "      <td>173.138298</td>\n",
       "      <td>28.961702</td>\n",
       "    </tr>\n",
       "    <tr>\n",
       "      <th rowspan=\"2\" valign=\"top\">130</th>\n",
       "      <th>1</th>\n",
       "      <td>50.516854</td>\n",
       "      <td>176.974157</td>\n",
       "      <td>30.337079</td>\n",
       "    </tr>\n",
       "    <tr>\n",
       "      <th>2</th>\n",
       "      <td>50.535354</td>\n",
       "      <td>175.061224</td>\n",
       "      <td>29.237755</td>\n",
       "    </tr>\n",
       "    <tr>\n",
       "      <th rowspan=\"2\" valign=\"top\">131</th>\n",
       "      <th>1</th>\n",
       "      <td>53.140187</td>\n",
       "      <td>175.610476</td>\n",
       "      <td>28.259615</td>\n",
       "    </tr>\n",
       "    <tr>\n",
       "      <th>2</th>\n",
       "      <td>46.778846</td>\n",
       "      <td>175.091346</td>\n",
       "      <td>30.077885</td>\n",
       "    </tr>\n",
       "    <tr>\n",
       "      <th rowspan=\"2\" valign=\"top\">132</th>\n",
       "      <th>1</th>\n",
       "      <td>42.380435</td>\n",
       "      <td>172.534066</td>\n",
       "      <td>28.546154</td>\n",
       "    </tr>\n",
       "    <tr>\n",
       "      <th>2</th>\n",
       "      <td>49.038760</td>\n",
       "      <td>172.809524</td>\n",
       "      <td>28.966667</td>\n",
       "    </tr>\n",
       "    <tr>\n",
       "      <th rowspan=\"2\" valign=\"top\">133</th>\n",
       "      <th>1</th>\n",
       "      <td>44.054795</td>\n",
       "      <td>171.509722</td>\n",
       "      <td>27.495833</td>\n",
       "    </tr>\n",
       "    <tr>\n",
       "      <th>2</th>\n",
       "      <td>47.489796</td>\n",
       "      <td>171.179167</td>\n",
       "      <td>27.966667</td>\n",
       "    </tr>\n",
       "  </tbody>\n",
       "</table>\n",
       "</div>"
      ],
      "text/plain": [
       "                   RIDAGEYR       BMXHT     BMXBMI\n",
       "SDMVSTRA SDMVPSU                                  \n",
       "119      1        47.861111  172.741667  26.958333\n",
       "         2        54.363636  172.906818  27.160465\n",
       "120      1        43.130000  169.537755  30.939175\n",
       "         2        45.219178  173.075342  27.727397\n",
       "121      1        46.750000  172.177885  29.416505\n",
       "         2        42.063158  174.764516  26.273118\n",
       "122      1        44.653061  173.998969  28.528866\n",
       "         2        44.320000  170.332323  25.744444\n",
       "123      1        47.829787  174.315217  29.231522\n",
       "         2        52.126582  174.454430  28.811392\n",
       "124      1        50.750000  172.109009  28.614414\n",
       "         2        48.245614  174.291228  27.714035\n",
       "125      1        55.165289  173.631092  29.727731\n",
       "         2        49.705882  174.456863  29.143564\n",
       "126      1        48.416667  175.149398  29.033333\n",
       "         2        48.666667  174.713043  29.039130\n",
       "127      1        53.137931  171.545349  31.062353\n",
       "         2        54.070588  173.366667  30.557831\n",
       "128      1        53.673267  169.325000  31.749000\n",
       "         2        45.822785  172.400000  26.835443\n",
       "129      1        43.922222  171.094318  26.493182\n",
       "         2        45.775510  173.138298  28.961702\n",
       "130      1        50.516854  176.974157  30.337079\n",
       "         2        50.535354  175.061224  29.237755\n",
       "131      1        53.140187  175.610476  28.259615\n",
       "         2        46.778846  175.091346  30.077885\n",
       "132      1        42.380435  172.534066  28.546154\n",
       "         2        49.038760  172.809524  28.966667\n",
       "133      1        44.054795  171.509722  27.495833\n",
       "         2        47.489796  171.179167  27.966667"
      ]
     },
     "execution_count": 72,
     "metadata": {},
     "output_type": "execute_result"
    }
   ],
   "source": [
    "da[da.RIAGENDRx == 'Male'].groupby(['SDMVSTRA', 'SDMVPSU'])['RIDAGEYR', 'BMXHT', 'BMXBMI'].mean()\n"
   ]
  },
  {
   "cell_type": "code",
   "execution_count": 73,
   "metadata": {},
   "outputs": [
    {
     "name": "stderr",
     "output_type": "stream",
     "text": [
      "/home/javanegas/Documents/notes/notes-statistics-with-python/understanding-and-visualizing-data/Week2/venv/lib/python3.6/site-packages/ipykernel_launcher.py:1: FutureWarning: Indexing with multiple keys (implicitly converted to a tuple of keys) will be deprecated, use a list instead.\n",
      "  \"\"\"Entry point for launching an IPython kernel.\n"
     ]
    },
    {
     "data": {
      "text/html": [
       "<div>\n",
       "<style scoped>\n",
       "    .dataframe tbody tr th:only-of-type {\n",
       "        vertical-align: middle;\n",
       "    }\n",
       "\n",
       "    .dataframe tbody tr th {\n",
       "        vertical-align: top;\n",
       "    }\n",
       "\n",
       "    .dataframe thead th {\n",
       "        text-align: right;\n",
       "    }\n",
       "</style>\n",
       "<table border=\"1\" class=\"dataframe\">\n",
       "  <thead>\n",
       "    <tr style=\"text-align: right;\">\n",
       "      <th></th>\n",
       "      <th></th>\n",
       "      <th>RIDAGEYR</th>\n",
       "      <th>BMXHT</th>\n",
       "      <th>BMXBMI</th>\n",
       "    </tr>\n",
       "    <tr>\n",
       "      <th>SDMVSTRA</th>\n",
       "      <th>SDMVPSU</th>\n",
       "      <th></th>\n",
       "      <th></th>\n",
       "      <th></th>\n",
       "    </tr>\n",
       "  </thead>\n",
       "  <tbody>\n",
       "    <tr>\n",
       "      <th rowspan=\"2\" valign=\"top\">119</th>\n",
       "      <th>1</th>\n",
       "      <td>47.663265</td>\n",
       "      <td>159.570408</td>\n",
       "      <td>30.052041</td>\n",
       "    </tr>\n",
       "    <tr>\n",
       "      <th>2</th>\n",
       "      <td>52.987952</td>\n",
       "      <td>159.244578</td>\n",
       "      <td>27.849398</td>\n",
       "    </tr>\n",
       "    <tr>\n",
       "      <th rowspan=\"2\" valign=\"top\">120</th>\n",
       "      <th>1</th>\n",
       "      <td>43.636364</td>\n",
       "      <td>155.402041</td>\n",
       "      <td>32.419388</td>\n",
       "    </tr>\n",
       "    <tr>\n",
       "      <th>2</th>\n",
       "      <td>43.736111</td>\n",
       "      <td>159.218056</td>\n",
       "      <td>27.400000</td>\n",
       "    </tr>\n",
       "    <tr>\n",
       "      <th rowspan=\"2\" valign=\"top\">121</th>\n",
       "      <th>1</th>\n",
       "      <td>44.397959</td>\n",
       "      <td>158.871579</td>\n",
       "      <td>30.856842</td>\n",
       "    </tr>\n",
       "    <tr>\n",
       "      <th>2</th>\n",
       "      <td>44.376344</td>\n",
       "      <td>160.229032</td>\n",
       "      <td>26.470968</td>\n",
       "    </tr>\n",
       "    <tr>\n",
       "      <th rowspan=\"2\" valign=\"top\">122</th>\n",
       "      <th>1</th>\n",
       "      <td>42.897436</td>\n",
       "      <td>161.315385</td>\n",
       "      <td>29.447436</td>\n",
       "    </tr>\n",
       "    <tr>\n",
       "      <th>2</th>\n",
       "      <td>47.333333</td>\n",
       "      <td>157.231111</td>\n",
       "      <td>26.611111</td>\n",
       "    </tr>\n",
       "    <tr>\n",
       "      <th rowspan=\"2\" valign=\"top\">123</th>\n",
       "      <th>1</th>\n",
       "      <td>44.841121</td>\n",
       "      <td>162.059615</td>\n",
       "      <td>29.905769</td>\n",
       "    </tr>\n",
       "    <tr>\n",
       "      <th>2</th>\n",
       "      <td>46.457447</td>\n",
       "      <td>160.476596</td>\n",
       "      <td>30.641489</td>\n",
       "    </tr>\n",
       "    <tr>\n",
       "      <th rowspan=\"2\" valign=\"top\">124</th>\n",
       "      <th>1</th>\n",
       "      <td>51.664000</td>\n",
       "      <td>158.788710</td>\n",
       "      <td>29.533065</td>\n",
       "    </tr>\n",
       "    <tr>\n",
       "      <th>2</th>\n",
       "      <td>42.541667</td>\n",
       "      <td>162.853521</td>\n",
       "      <td>28.640845</td>\n",
       "    </tr>\n",
       "    <tr>\n",
       "      <th rowspan=\"2\" valign=\"top\">125</th>\n",
       "      <th>1</th>\n",
       "      <td>50.900901</td>\n",
       "      <td>160.762385</td>\n",
       "      <td>30.385321</td>\n",
       "    </tr>\n",
       "    <tr>\n",
       "      <th>2</th>\n",
       "      <td>51.660000</td>\n",
       "      <td>160.021429</td>\n",
       "      <td>28.564286</td>\n",
       "    </tr>\n",
       "    <tr>\n",
       "      <th rowspan=\"2\" valign=\"top\">126</th>\n",
       "      <th>1</th>\n",
       "      <td>46.229167</td>\n",
       "      <td>160.387500</td>\n",
       "      <td>31.262500</td>\n",
       "    </tr>\n",
       "    <tr>\n",
       "      <th>2</th>\n",
       "      <td>47.205882</td>\n",
       "      <td>160.892000</td>\n",
       "      <td>29.612121</td>\n",
       "    </tr>\n",
       "    <tr>\n",
       "      <th rowspan=\"2\" valign=\"top\">127</th>\n",
       "      <th>1</th>\n",
       "      <td>49.694444</td>\n",
       "      <td>157.422430</td>\n",
       "      <td>32.189720</td>\n",
       "    </tr>\n",
       "    <tr>\n",
       "      <th>2</th>\n",
       "      <td>51.486239</td>\n",
       "      <td>159.022936</td>\n",
       "      <td>30.770642</td>\n",
       "    </tr>\n",
       "    <tr>\n",
       "      <th rowspan=\"2\" valign=\"top\">128</th>\n",
       "      <th>1</th>\n",
       "      <td>55.638462</td>\n",
       "      <td>156.339062</td>\n",
       "      <td>32.303125</td>\n",
       "    </tr>\n",
       "    <tr>\n",
       "      <th>2</th>\n",
       "      <td>45.589744</td>\n",
       "      <td>160.437179</td>\n",
       "      <td>27.491026</td>\n",
       "    </tr>\n",
       "    <tr>\n",
       "      <th rowspan=\"2\" valign=\"top\">129</th>\n",
       "      <th>1</th>\n",
       "      <td>45.329787</td>\n",
       "      <td>156.900000</td>\n",
       "      <td>29.019149</td>\n",
       "    </tr>\n",
       "    <tr>\n",
       "      <th>2</th>\n",
       "      <td>43.500000</td>\n",
       "      <td>161.034259</td>\n",
       "      <td>29.429630</td>\n",
       "    </tr>\n",
       "    <tr>\n",
       "      <th rowspan=\"2\" valign=\"top\">130</th>\n",
       "      <th>1</th>\n",
       "      <td>47.810526</td>\n",
       "      <td>161.977895</td>\n",
       "      <td>30.700000</td>\n",
       "    </tr>\n",
       "    <tr>\n",
       "      <th>2</th>\n",
       "      <td>50.833333</td>\n",
       "      <td>160.060577</td>\n",
       "      <td>31.490385</td>\n",
       "    </tr>\n",
       "    <tr>\n",
       "      <th rowspan=\"2\" valign=\"top\">131</th>\n",
       "      <th>1</th>\n",
       "      <td>54.893617</td>\n",
       "      <td>161.989362</td>\n",
       "      <td>30.061702</td>\n",
       "    </tr>\n",
       "    <tr>\n",
       "      <th>2</th>\n",
       "      <td>45.000000</td>\n",
       "      <td>161.673810</td>\n",
       "      <td>32.984127</td>\n",
       "    </tr>\n",
       "    <tr>\n",
       "      <th rowspan=\"2\" valign=\"top\">132</th>\n",
       "      <th>1</th>\n",
       "      <td>43.210526</td>\n",
       "      <td>161.508421</td>\n",
       "      <td>29.848421</td>\n",
       "    </tr>\n",
       "    <tr>\n",
       "      <th>2</th>\n",
       "      <td>51.700000</td>\n",
       "      <td>159.138281</td>\n",
       "      <td>30.540625</td>\n",
       "    </tr>\n",
       "    <tr>\n",
       "      <th rowspan=\"2\" valign=\"top\">133</th>\n",
       "      <th>1</th>\n",
       "      <td>45.105882</td>\n",
       "      <td>158.295122</td>\n",
       "      <td>27.959259</td>\n",
       "    </tr>\n",
       "    <tr>\n",
       "      <th>2</th>\n",
       "      <td>47.063158</td>\n",
       "      <td>158.627368</td>\n",
       "      <td>29.000000</td>\n",
       "    </tr>\n",
       "  </tbody>\n",
       "</table>\n",
       "</div>"
      ],
      "text/plain": [
       "                   RIDAGEYR       BMXHT     BMXBMI\n",
       "SDMVSTRA SDMVPSU                                  \n",
       "119      1        47.663265  159.570408  30.052041\n",
       "         2        52.987952  159.244578  27.849398\n",
       "120      1        43.636364  155.402041  32.419388\n",
       "         2        43.736111  159.218056  27.400000\n",
       "121      1        44.397959  158.871579  30.856842\n",
       "         2        44.376344  160.229032  26.470968\n",
       "122      1        42.897436  161.315385  29.447436\n",
       "         2        47.333333  157.231111  26.611111\n",
       "123      1        44.841121  162.059615  29.905769\n",
       "         2        46.457447  160.476596  30.641489\n",
       "124      1        51.664000  158.788710  29.533065\n",
       "         2        42.541667  162.853521  28.640845\n",
       "125      1        50.900901  160.762385  30.385321\n",
       "         2        51.660000  160.021429  28.564286\n",
       "126      1        46.229167  160.387500  31.262500\n",
       "         2        47.205882  160.892000  29.612121\n",
       "127      1        49.694444  157.422430  32.189720\n",
       "         2        51.486239  159.022936  30.770642\n",
       "128      1        55.638462  156.339062  32.303125\n",
       "         2        45.589744  160.437179  27.491026\n",
       "129      1        45.329787  156.900000  29.019149\n",
       "         2        43.500000  161.034259  29.429630\n",
       "130      1        47.810526  161.977895  30.700000\n",
       "         2        50.833333  160.060577  31.490385\n",
       "131      1        54.893617  161.989362  30.061702\n",
       "         2        45.000000  161.673810  32.984127\n",
       "132      1        43.210526  161.508421  29.848421\n",
       "         2        51.700000  159.138281  30.540625\n",
       "133      1        45.105882  158.295122  27.959259\n",
       "         2        47.063158  158.627368  29.000000"
      ]
     },
     "execution_count": 73,
     "metadata": {},
     "output_type": "execute_result"
    }
   ],
   "source": [
    "da[da.RIAGENDRx == 'Female'].groupby(['SDMVSTRA', 'SDMVPSU'])['RIDAGEYR', 'BMXHT', 'BMXBMI'].mean()\n"
   ]
  },
  {
   "cell_type": "code",
   "execution_count": 56,
   "metadata": {},
   "outputs": [
    {
     "data": {
      "text/html": [
       "<div>\n",
       "<style scoped>\n",
       "    .dataframe tbody tr th:only-of-type {\n",
       "        vertical-align: middle;\n",
       "    }\n",
       "\n",
       "    .dataframe tbody tr th {\n",
       "        vertical-align: top;\n",
       "    }\n",
       "\n",
       "    .dataframe thead th {\n",
       "        text-align: right;\n",
       "    }\n",
       "</style>\n",
       "<table border=\"1\" class=\"dataframe\">\n",
       "  <thead>\n",
       "    <tr style=\"text-align: right;\">\n",
       "      <th></th>\n",
       "      <th>RIDAGEYR</th>\n",
       "      <th>BMXHT</th>\n",
       "      <th>BMXBMI</th>\n",
       "    </tr>\n",
       "  </thead>\n",
       "  <tbody>\n",
       "    <tr>\n",
       "      <th>count</th>\n",
       "      <td>2976.000000</td>\n",
       "      <td>2946.000000</td>\n",
       "      <td>2944.000000</td>\n",
       "    </tr>\n",
       "    <tr>\n",
       "      <th>mean</th>\n",
       "      <td>47.793011</td>\n",
       "      <td>159.673184</td>\n",
       "      <td>29.939946</td>\n",
       "    </tr>\n",
       "    <tr>\n",
       "      <th>std</th>\n",
       "      <td>18.299419</td>\n",
       "      <td>7.193736</td>\n",
       "      <td>7.753319</td>\n",
       "    </tr>\n",
       "    <tr>\n",
       "      <th>min</th>\n",
       "      <td>18.000000</td>\n",
       "      <td>129.700000</td>\n",
       "      <td>14.500000</td>\n",
       "    </tr>\n",
       "    <tr>\n",
       "      <th>25%</th>\n",
       "      <td>32.000000</td>\n",
       "      <td>154.700000</td>\n",
       "      <td>24.100000</td>\n",
       "    </tr>\n",
       "    <tr>\n",
       "      <th>50%</th>\n",
       "      <td>47.000000</td>\n",
       "      <td>159.600000</td>\n",
       "      <td>28.800000</td>\n",
       "    </tr>\n",
       "    <tr>\n",
       "      <th>75%</th>\n",
       "      <td>62.000000</td>\n",
       "      <td>164.800000</td>\n",
       "      <td>34.100000</td>\n",
       "    </tr>\n",
       "    <tr>\n",
       "      <th>max</th>\n",
       "      <td>80.000000</td>\n",
       "      <td>185.200000</td>\n",
       "      <td>67.300000</td>\n",
       "    </tr>\n",
       "  </tbody>\n",
       "</table>\n",
       "</div>"
      ],
      "text/plain": [
       "          RIDAGEYR        BMXHT       BMXBMI\n",
       "count  2976.000000  2946.000000  2944.000000\n",
       "mean     47.793011   159.673184    29.939946\n",
       "std      18.299419     7.193736     7.753319\n",
       "min      18.000000   129.700000    14.500000\n",
       "25%      32.000000   154.700000    24.100000\n",
       "50%      47.000000   159.600000    28.800000\n",
       "75%      62.000000   164.800000    34.100000\n",
       "max      80.000000   185.200000    67.300000"
      ]
     },
     "execution_count": 56,
     "metadata": {},
     "output_type": "execute_result"
    }
   ],
   "source": [
    "da[da.RIAGENDRx == 'Female'].loc[:, ['RIDAGEYR', 'BMXHT', 'BMXBMI']].describe()"
   ]
  },
  {
   "cell_type": "code",
   "execution_count": 57,
   "metadata": {},
   "outputs": [
    {
     "data": {
      "text/html": [
       "<div>\n",
       "<style scoped>\n",
       "    .dataframe tbody tr th:only-of-type {\n",
       "        vertical-align: middle;\n",
       "    }\n",
       "\n",
       "    .dataframe tbody tr th {\n",
       "        vertical-align: top;\n",
       "    }\n",
       "\n",
       "    .dataframe thead th {\n",
       "        text-align: right;\n",
       "    }\n",
       "</style>\n",
       "<table border=\"1\" class=\"dataframe\">\n",
       "  <thead>\n",
       "    <tr style=\"text-align: right;\">\n",
       "      <th></th>\n",
       "      <th>RIDAGEYR</th>\n",
       "      <th>BMXHT</th>\n",
       "      <th>BMXBMI</th>\n",
       "    </tr>\n",
       "  </thead>\n",
       "  <tbody>\n",
       "    <tr>\n",
       "      <th>count</th>\n",
       "      <td>2759.000000</td>\n",
       "      <td>2727.00000</td>\n",
       "      <td>2718.000000</td>\n",
       "    </tr>\n",
       "    <tr>\n",
       "      <th>mean</th>\n",
       "      <td>48.332004</td>\n",
       "      <td>173.13205</td>\n",
       "      <td>28.778072</td>\n",
       "    </tr>\n",
       "    <tr>\n",
       "      <th>std</th>\n",
       "      <td>18.571168</td>\n",
       "      <td>7.83411</td>\n",
       "      <td>6.252568</td>\n",
       "    </tr>\n",
       "    <tr>\n",
       "      <th>min</th>\n",
       "      <td>18.000000</td>\n",
       "      <td>136.50000</td>\n",
       "      <td>15.100000</td>\n",
       "    </tr>\n",
       "    <tr>\n",
       "      <th>25%</th>\n",
       "      <td>32.000000</td>\n",
       "      <td>168.00000</td>\n",
       "      <td>24.400000</td>\n",
       "    </tr>\n",
       "    <tr>\n",
       "      <th>50%</th>\n",
       "      <td>48.000000</td>\n",
       "      <td>173.40000</td>\n",
       "      <td>27.900000</td>\n",
       "    </tr>\n",
       "    <tr>\n",
       "      <th>75%</th>\n",
       "      <td>63.000000</td>\n",
       "      <td>178.40000</td>\n",
       "      <td>31.975000</td>\n",
       "    </tr>\n",
       "    <tr>\n",
       "      <th>max</th>\n",
       "      <td>80.000000</td>\n",
       "      <td>202.70000</td>\n",
       "      <td>58.800000</td>\n",
       "    </tr>\n",
       "  </tbody>\n",
       "</table>\n",
       "</div>"
      ],
      "text/plain": [
       "          RIDAGEYR       BMXHT       BMXBMI\n",
       "count  2759.000000  2727.00000  2718.000000\n",
       "mean     48.332004   173.13205    28.778072\n",
       "std      18.571168     7.83411     6.252568\n",
       "min      18.000000   136.50000    15.100000\n",
       "25%      32.000000   168.00000    24.400000\n",
       "50%      48.000000   173.40000    27.900000\n",
       "75%      63.000000   178.40000    31.975000\n",
       "max      80.000000   202.70000    58.800000"
      ]
     },
     "execution_count": 57,
     "metadata": {},
     "output_type": "execute_result"
    }
   ],
   "source": [
    "da[da.RIAGENDRx == 'Male'].loc[:, ['RIDAGEYR', 'BMXHT', 'BMXBMI']].describe()"
   ]
  }
 ],
 "metadata": {
  "kernelspec": {
   "display_name": "Python 3",
   "language": "python",
   "name": "python3"
  },
  "language_info": {
   "codemirror_mode": {
    "name": "ipython",
    "version": 3
   },
   "file_extension": ".py",
   "mimetype": "text/x-python",
   "name": "python",
   "nbconvert_exporter": "python",
   "pygments_lexer": "ipython3",
   "version": "3.6.9"
  }
 },
 "nbformat": 4,
 "nbformat_minor": 2
}
